{
 "cells": [
  {
   "cell_type": "code",
   "execution_count": 1,
   "metadata": {
    "collapsed": true
   },
   "outputs": [],
   "source": [
    "import mbuild as mb\n",
    "import numpy as np"
   ]
  },
  {
   "cell_type": "code",
   "execution_count": 2,
   "metadata": {
    "collapsed": true
   },
   "outputs": [],
   "source": [
    "class CH2(mb.Compound):\n",
    "    \"\"\"A methylene bridge. \"\"\"\n",
    "    def __init__(self):\n",
    "        super(CH2, self).__init__()\n",
    "        \n",
    "        mb.load('pdb-files/ch2.pdb', compound=self)\n",
    "        self.add(mb.Port(anchor=self[0], orientation=[0, 1, 0], separation=0.075), label='up')\n",
    "        self.add(mb.Port(anchor=self[0], orientation=[0, -1, 0], separation=0.075), label='down')\n",
    "        \n",
    "class H(mb.Compound):\n",
    "    \"\"\"A hydrogen atom. \"\"\"\n",
    "    def __init__(self):\n",
    "        super(H, self).__init__()\n",
    "        \n",
    "        self.add(mb.Particle(name='H'))\n",
    "        self.add(mb.Port(anchor=self[0], orientation=[0, 1, 0], separation=0.075), label='up')\n",
    "        \n",
    "class Alkane(mb.Compound):\n",
    "    \"\"\"A linear alkane chain. \"\"\"\n",
    "    def __init__(self, n):\n",
    "        \"\"\"Initialize an Alkane Compound.\n",
    "\n",
    "        Parameters\n",
    "        ----------\n",
    "        n : int\n",
    "            Number of carbon atoms in the chain\n",
    "            \n",
    "        \"\"\"\n",
    "        if n < 1:\n",
    "            raise ValueError('n must be 1 or more')\n",
    "        super(Alkane, self).__init__()\n",
    "\n",
    "        chain = mb.Polymer(CH2(), n=n, port_labels=('up', 'down'))\n",
    "        self.add(chain, 'chain')\n",
    "        \n",
    "        up_cap = H()\n",
    "        down_cap = H()\n",
    "        mb.force_overlap(up_cap, up_cap['up'], chain['up'])\n",
    "        self.add(up_cap)\n",
    "        mb.force_overlap(down_cap, down_cap['up'], chain['down'])\n",
    "        self.add(down_cap)\n",
    "        \n",
    "class AlkaneBox(mb.Compound):\n",
    "    \"\"\"A box of alkane chains. \"\"\"\n",
    "    def __init__(self, n, n_chains, box_length):\n",
    "        super(AlkaneBox, self).__init__()\n",
    "        \n",
    "        chain = Alkane(n)\n",
    "        box = mb.Box(lengths=[box_length, box_length, box_length])\n",
    "        box_of_chains = mb.fill_box(compound=chain, n_compounds=n_chains, box=box)\n",
    "        self.add(box_of_chains)"
   ]
  },
  {
   "cell_type": "code",
   "execution_count": 3,
   "metadata": {},
   "outputs": [
    {
     "name": "stderr",
     "output_type": "stream",
     "text": [
      "/Users/summeraz/foyer/foyer/validator.py:163: ValidationWarning: There are 703 atom types that are missing a smarts definition. To view the missing atom types, re-run with debug=True when applying the forcefield.\n",
      "  \"applying the forcefield.\".format(len(missing_smarts)), ValidationWarning)\n"
     ]
    }
   ],
   "source": [
    "system = AlkaneBox(n=5, n_chains=200, box_length=4.0)\n",
    "system.save('system.gro', overwrite=True)\n",
    "system.save('system.top', forcefield_name='oplsaa', overwrite=True)"
   ]
  },
  {
   "cell_type": "code",
   "execution_count": null,
   "metadata": {
    "collapsed": true
   },
   "outputs": [],
   "source": [
    "gmx grompp -f mdp_files/em.mdp -c system.gro -p system.top -o em.tpr\n",
    "gmx mdrun -v -deffnm em"
   ]
  },
  {
   "cell_type": "code",
   "execution_count": null,
   "metadata": {
    "collapsed": true
   },
   "outputs": [],
   "source": [
    "gmx grompp -f mdp_files/equil.mdp -c em.gro -p system.top -o equil.tpr\n",
    "gmx mdrun -v -deffnm equil"
   ]
  },
  {
   "cell_type": "code",
   "execution_count": null,
   "metadata": {
    "collapsed": true
   },
   "outputs": [],
   "source": [
    "gmx grompp -f mdp_files/sample.mdp -c equil.gro -p system.top -o sample.tpr\n",
    "gmx mdrun -v -deffnm sample"
   ]
  }
 ],
 "metadata": {
  "kernelspec": {
   "display_name": "Python 3",
   "language": "python",
   "name": "python3"
  },
  "language_info": {
   "codemirror_mode": {
    "name": "ipython",
    "version": 3
   },
   "file_extension": ".py",
   "mimetype": "text/x-python",
   "name": "python",
   "nbconvert_exporter": "python",
   "pygments_lexer": "ipython3",
   "version": "3.5.2"
  }
 },
 "nbformat": 4,
 "nbformat_minor": 2
}

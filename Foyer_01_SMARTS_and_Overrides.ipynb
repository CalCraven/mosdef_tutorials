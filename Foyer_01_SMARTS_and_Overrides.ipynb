{
 "cells": [
  {
   "cell_type": "markdown",
   "metadata": {
    "collapsed": true
   },
   "source": [
    "# Foyer Tutorial 01: SMARTS and Overrides\n",
    "\n",
    "This tutorial focuses on the basic usage of SMARTS to define chemical context and the use of overrides to set rule precedence."
   ]
  },
  {
   "cell_type": "markdown",
   "metadata": {},
   "source": [
    "As shown in the prior tutorial, atom-type usage (i.e., chemical context) is defined via SMARTS string contained in the `def` tag.  Below is the AtomTypes subsection of the XML file for a forcefield that describes alkanes using the OPLS all atom forcefield (as detailed in [Jorgensen, et al.](dx.doi.org/10.1021/ja9621760)). "
   ]
  },
  {
   "cell_type": "markdown",
   "metadata": {},
   "source": [
    "#### ! sed -n 2,18p OPLSaa_alkanes.xml"
   ]
  },
  {
   "cell_type": "markdown",
   "metadata": {},
   "source": [
    "### Defining SMARTS\n",
    "Focusing first on atom type `opls_140`, the SMARTS string, `def=\"H[C;X4]\"`, states that this atom-type applies when:\n",
    "- The element is hydrogen, i.e., `H`\n",
    "- When that hydrogen is connected to a carbon that has 4 neighbors, i.e., `[C;X4]`\n",
    "\n",
    "Similarly, for atom type `opls_138`, the SMARTS string, `def=\"[C;X4](H)(H)(H)H\"`, states that this atom-type applies when:\n",
    "- The element is carbon, with 4 neighbors, i.e., `[C;X4]`\n",
    "- 4 of those neighbors are hydrogens, i.e., `(H)(H)(H)H`\n",
    "\n",
    "For atom type `opls_136`, the SMARTS string, `def=\"[C;X4](H)H\"`, states that this atom-type applies when:\n",
    "- The element is carbon, with 4 neighbors, i.e., `[C;X4]`\n",
    "- At least 2 of those neighbors are hydrogens, i.e., `(H)H`\n",
    "\n",
    "For atom type `opls_135`, the SMARTS string, `def=\"[C;X4](H)(H)H\"`, states that this atom-type applies when:\n",
    "- The element is carbon, with 4 neighbors, i.e., `[C;X4]`\n",
    "- At least 3 of those neighbors are hydrogens, i.e., `(H)(H)H`\n",
    "\n",
    "### Atomtyping using SMARTS\n",
    "Let us now consider using these rules to atom-type the carbon in methane (i.e., CH4).\n",
    "\n",
    "opls_138 would obviously evaluate to `True`, as it is defined for a carbon, with 4 hydrogen neighbors. However, opls_135 and opls_136 would also evaulate to `True`.  In the case of opls_135, our definition only states that at least 3 of the neighbors are hydrogen, and have not made any specific claims about the identity of the 4th neighbor; similarly, for opls_136, we have only stated that 2 neighbors must be hydrogen and not specified the identity of the other 2 neighbors. \n",
    "\n",
    "### Overrides\n",
    "We will discuss two ways to address this. One approach is to employ `overrides`.  `overrides` provide a means to dictate rule precedence (i.e., which rules are more specific than others).  In the forcefield field file above, opls_138 has defined: `overrides=\"opls_135,opls_136\"`.  That is, if opls_138 evaluates to `True`, then it takes precedence over opls_135 and opls_136. \n",
    "\n",
    "Similarly, if opls_136 evaluates to `True`, it `overrides=\"opls_136\"`, thus taking precedence. \n",
    "\n",
    "`overrides` are especially useful if the chemical context of two different atom-types are effectively the same.  E.g., the terminal methyl group in an alkane has the same first neighbor environment as the methyl group in toluene, however the parameters (and thus atom-type) are different. Thus `overrides` can be used to state that if the more specific toluene rule evaluates to `True` it should take precedences over the more general alkane rule (as shown below):\n",
    "\n",
    "<img src=\"ch3-toluene.png\" alt=\"Drawing\" style=\"width: 700px;\"/>\n",
    "\n",
    "### Better SMARTS definitions\n",
    "In many cases, `overrides` can be avoided by simply providing more specific SMARTS.  For example, the rules for opls_135, opls_136, and opls_138 above can be made more specific (in this case, stating the identify of the other neighbors besides carbon) and thus eliminate the need for `overrides`, as shown below. "
   ]
  },
  {
   "cell_type": "code",
   "execution_count": 4,
   "metadata": {
    "collapsed": false
   },
   "outputs": [
    {
     "name": "stdout",
     "output_type": "stream",
     "text": [
      "    <AtomTypes>\r\n",
      "        <Type name=\"opls_135\" def=\"[C;X4](H)(H)(H)C\"\r\n",
      "              class=\"CT\" element=\"C\" mass=\"12.01100\" desc=\"alkane CH3\"\r\n",
      "              doi=\"10.1021/ja9621760\"/>\r\n",
      "\r\n",
      "        <Type name=\"opls_136\" def=\"[C;X4](H)(H)(C)C\"\r\n",
      "              class=\"CT\" element=\"C\" mass=\"12.01100\" desc=\"alkane CH2\"\r\n",
      "              doi=\"10.1021/ja9621760\"/>\r\n",
      "\r\n",
      "        <Type name=\"opls_138\" def=\"[C;X4](H)(H)(H)H\"\r\n",
      "              class=\"CT\" element=\"C\" mass=\"12.01100\" desc=\"alkane CH4\"\r\n",
      "              doi=\"10.1021/ja9621760\"/>\r\n",
      "\r\n",
      "        <Type name=\"opls_140\" def=\"H[C;X4]\"\r\n",
      "              class=\"HC\" element=\"H\" mass=\"1.00800\" desc=\"alkane H\"\r\n",
      "              doi=\"10.1021/ja9621760\"/>\r\n",
      "    </AtomTypes>\r\n"
     ]
    }
   ],
   "source": [
    "! sed -n 2,18p OPLSaa_alkanes2.xml"
   ]
  },
  {
   "cell_type": "markdown",
   "metadata": {},
   "source": [
    "Note that SMARTS can be used to define more than just the immediate local pattern. Recall the definition for opls_140, `def='H[C;X4]'`. This difition states not only that the element is hydrogen and has a neighbor that is carbon, but that carbon has 4 bonds. If necessarily, the identify of those bonded neighbors could additionally be specified. \n",
    "\n",
    "Additionally, we note that since this forcefield only has a single hydrogen atom-type, the definition could actually be made less specific, i.e., `def='H'`, and still produce the correct output.  \n",
    "\n",
    "Thus, it is important to keep in mind that there are multiple valid SMARTS definitions that can be provided for a given atom-type; the specificity of the SMARTS definition and whether or not overrides are necessary will depend on the chemical context of the parameters themselves, the number of atom-types included in a forcefield, the intended usage of the forcefield, and the personal preferences of the individual(s) defining the forcefield.   "
   ]
  },
  {
   "cell_type": "code",
   "execution_count": null,
   "metadata": {
    "collapsed": true
   },
   "outputs": [],
   "source": []
  }
 ],
 "metadata": {
  "kernelspec": {
   "display_name": "Python 3",
   "language": "python",
   "name": "python3"
  },
  "language_info": {
   "codemirror_mode": {
    "name": "ipython",
    "version": 3
   },
   "file_extension": ".py",
   "mimetype": "text/x-python",
   "name": "python",
   "nbconvert_exporter": "python",
   "pygments_lexer": "ipython3",
   "version": "3.6.0"
  }
 },
 "nbformat": 4,
 "nbformat_minor": 2
}
